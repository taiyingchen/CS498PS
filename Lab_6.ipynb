{
 "cells": [
  {
   "cell_type": "markdown",
   "metadata": {
    "deletable": false,
    "editable": false,
    "nbgrader": {
     "cell_type": "markdown",
     "checksum": "6b1c9f2214dcda0be88103ad54c2bf32",
     "grade": false,
     "grade_id": "cell-4551794781ef100d",
     "locked": true,
     "schema_version": 3,
     "solution": false,
     "task": false
    }
   },
   "source": [
    "# Lab 6 - Denoising"
   ]
  },
  {
   "cell_type": "markdown",
   "metadata": {
    "deletable": false,
    "editable": false,
    "nbgrader": {
     "cell_type": "markdown",
     "checksum": "61f5cca6d5d2146d122589c830c77ad7",
     "grade": false,
     "grade_id": "cell-9544d24facf62618",
     "locked": true,
     "schema_version": 3,
     "solution": false,
     "task": false
    }
   },
   "source": [
    "In this lab we will use denoising to clean up some noisy recordings. We will use the following sounds:\n",
    "\n",
    "Speech in a room: [https://drive.google.com/uc?export=download&id=1g5nbBpNbCjqs8cSoW0Lb-owe15tswDwW ]\n",
    "\n",
    "ATC: [https://drive.google.com/uc?export=download&id=1fh5iL5qRj3-PUP_sG5-QE5DofACY_Hr5 ]\n",
    "\n",
    "Speech with wind: [https://drive.google.com/uc?export=download&id=1g7TIkLpnWDFNUQYgCqIUoSOkk5EIK16_ ]\n",
    "\n"
   ]
  },
  {
   "cell_type": "markdown",
   "metadata": {
    "deletable": false,
    "editable": false,
    "nbgrader": {
     "cell_type": "markdown",
     "checksum": "47551075a4383defd76eebbbb1cb0afc",
     "grade": false,
     "grade_id": "cell-46ab10b9c648fe7c",
     "locked": true,
     "schema_version": 3,
     "solution": false,
     "task": false
    }
   },
   "source": [
    "## Part 1. Cleaning up the sounds"
   ]
  },
  {
   "cell_type": "markdown",
   "metadata": {
    "deletable": false,
    "editable": false,
    "nbgrader": {
     "cell_type": "markdown",
     "checksum": "b2694161c1afd150844a3f43f3b5a599",
     "grade": false,
     "grade_id": "cell-ecfdec45df38e5ce",
     "locked": true,
     "schema_version": 3,
     "solution": false,
     "task": false
    }
   },
   "source": [
    "Let’s start by cleaning up these sounds as best as we can. We will do a straightforward magnitude spectral subtraction. For all of these sounds there is only noise in the first few seconds of the recording so that you can learn a noise profile from there. Do the following:\n",
    "Perform an STFT of the recordings\n",
    "\n",
    "- Estimate the magnitude spectrum of the noise from the beginning of the recording\n",
    "    - It’s up to you to figure out how many seconds to use (hint: look at the spectrogram)\n",
    "\n",
    "- Perform spectral subtraction by subtracting that spectrum from the input’s magnitude STFT\n",
    "    - Remember to clip any resulting negative values to zero\n",
    "    - Try to find how much of the noise to subtract so that the output looks good\n",
    "\n",
    "- Use the original signal’s phase to convert back to a time series.\n",
    "\n",
    "Make a note of which examples sound the best and are easier to work with. Try to explain why.\n",
    "At this point some of the outputs will exhibit “musical noise”. To minimize its effects apply a median filter on the denoised magnitude spectrogram to make it sound better (hint: ```scipy.signal.medfilt2```). How big should the median window be? Try different values and find which work best.\n"
   ]
  },
  {
   "cell_type": "code",
   "execution_count": null,
   "metadata": {
    "deletable": false,
    "nbgrader": {
     "cell_type": "code",
     "checksum": "1d5796734019637b0d4746f9348bb7b1",
     "grade": true,
     "grade_id": "cell-591739494e98ab72",
     "locked": false,
     "points": 3,
     "schema_version": 3,
     "solution": true,
     "task": false
    }
   },
   "outputs": [],
   "source": [
    "# YOUR CODE HERE\n",
    "raise NotImplementedError()"
   ]
  },
  {
   "cell_type": "markdown",
   "metadata": {
    "deletable": false,
    "editable": false,
    "nbgrader": {
     "cell_type": "markdown",
     "checksum": "4ef33eae29ef034c34e7651477e618ea",
     "grade": false,
     "grade_id": "cell-1ce81ebcddc5a2e3",
     "locked": true,
     "schema_version": 3,
     "solution": false,
     "task": false
    }
   },
   "source": [
    "## Part 2. Implement a Voice Activity Detector (VAD)\n"
   ]
  },
  {
   "cell_type": "markdown",
   "metadata": {
    "deletable": false,
    "editable": false,
    "nbgrader": {
     "cell_type": "markdown",
     "checksum": "23470e4387b8c20f04b3f73dfd778ce4",
     "grade": false,
     "grade_id": "cell-12edd88e9654c94e",
     "locked": true,
     "schema_version": 3,
     "solution": false,
     "task": false
    }
   },
   "source": [
    "For the last sound we have an evolving noise profile, which causes problems since our noise description from the first two seconds isn’t accurate throughout. Because we’re lazy we want to automatically update the noise model and not to select it manually. To do so we need a VAD that lets us know when to gather noise statistics and when to denoise. Do the following:\n",
    "\n",
    "- Take the square of the input waveform and lowpass filter it (a lot) to get an energy level over time\n",
    "    - Experiment with the cutoff frequency so that you get a smooth energy-looking function\n",
    "- Set a threshold over which we seem to have speech in the input\n",
    "- Implement a real-time spectral subtraction denoiser\n",
    "    - If an input frame is under threshold, it is noise\n",
    "    - Keep track of the last few noise frames and their average amplitude will be your noise spectrum\n",
    "    - If an input is over the threshold it is speech\n",
    "    - Once you encounter speech perform spectral subtraction with the current noise estimate"
   ]
  },
  {
   "cell_type": "code",
   "execution_count": null,
   "metadata": {
    "deletable": false,
    "nbgrader": {
     "cell_type": "code",
     "checksum": "6552bfc01a1d1709384e6517cf113a42",
     "grade": true,
     "grade_id": "cell-9266f65adfb5f7cd",
     "locked": false,
     "points": 3,
     "schema_version": 3,
     "solution": true,
     "task": false
    }
   },
   "outputs": [],
   "source": [
    "# YOUR CODE HERE\n",
    "raise NotImplementedError()"
   ]
  }
 ],
 "metadata": {
  "kernelspec": {
   "display_name": "Python 3",
   "language": "python",
   "name": "python3"
  },
  "language_info": {
   "codemirror_mode": {
    "name": "ipython",
    "version": 3
   },
   "file_extension": ".py",
   "mimetype": "text/x-python",
   "name": "python",
   "nbconvert_exporter": "python",
   "pygments_lexer": "ipython3",
   "version": "3.7.6"
  }
 },
 "nbformat": 4,
 "nbformat_minor": 2
}
