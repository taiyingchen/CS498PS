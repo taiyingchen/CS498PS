{
 "cells": [
  {
   "cell_type": "markdown",
   "metadata": {
    "deletable": false,
    "editable": false,
    "nbgrader": {
     "cell_type": "markdown",
     "checksum": "3a2d69266e438dc5ff367df299a78730",
     "grade": false,
     "grade_id": "cell-cad022ce18ee41e4",
     "locked": true,
     "schema_version": 3,
     "solution": false,
     "task": false
    }
   },
   "source": [
    "# Lab 9: Audio Classification "
   ]
  },
  {
   "cell_type": "markdown",
   "metadata": {
    "deletable": false,
    "editable": false,
    "nbgrader": {
     "cell_type": "markdown",
     "checksum": "b455130b72ffb37275f09743824b7b93",
     "grade": false,
     "grade_id": "cell-de39fbc2436b23e5",
     "locked": true,
     "schema_version": 3,
     "solution": false,
     "task": false
    }
   },
   "source": [
    "## Part 1: Making a speech detector"
   ]
  },
  {
   "cell_type": "markdown",
   "metadata": {
    "deletable": false,
    "editable": false,
    "nbgrader": {
     "cell_type": "markdown",
     "checksum": "8e6bdc6e62576f57eebd1cbeb704ef88",
     "grade": false,
     "grade_id": "cell-2aa6f72c371ee5fd",
     "locked": true,
     "schema_version": 3,
     "solution": false,
     "task": false
    }
   },
   "source": [
    "In this section we will design a simple classifier that will let us know if its input is speech or non-speech. Download the data archive from: [ https://drive.google.com/file/d/1oAnvk-hzzgzZ4di4W0pKw6v3IWLm9u2X/view?usp=sharing ] In this part we will use the dataset in data/SpeechMusic. In it you will find two directories, speech/ and music/ containing data from each class.\n",
    "\n",
    "Randomly select 50 soundfiles from each directory to use as training data, and use the remaining sounds as testing data. For all of the sounds we will compute a representation that makes the classification easier and we will use a simple Gaussian model to classify them. Do the following:\n",
    "\n",
    "- Perform an STFT for each sound, take it’s magnitude and raise it to 0.3 to improve contrast\n",
    "    - We will consider each spctral slice of that to be a data point\n",
    "- Using the training data of each sound:\n",
    "    - Calculate the mean column and the diagonal covariance of the columns\n",
    "    - You will thus get two sets of Gaussian parameters that model each sound class\n",
    "- For each testing data point:\n",
    "    - Calculate the likelihood of each column based on the above models\n",
    "\t- To calculate the entire file likelihood add all the frame likelihoods\n",
    "\t- Assign each soundfile to the class that gets the highest likelihood\n",
    "\n",
    "For extra credit implement the parameter estimation and model likelihood yourself. If you are too lazy for that you can instead use ```sklearn.mixture.GaussianMixture``` to learn a diagonal single-Gaussian model per class.\n",
    "\n",
    "How do the results look like? If you rerun this with a different training/testing set, is there an appreciable difference? On average over multiple training/testing sets what accuracy do you get?"
   ]
  },
  {
   "cell_type": "code",
   "execution_count": 1,
   "metadata": {
    "deletable": false,
    "nbgrader": {
     "cell_type": "code",
     "checksum": "d5d414603227ac878e0dd7d54775eca6",
     "grade": true,
     "grade_id": "cell-fd9d89ff0ddb0ec1",
     "locked": false,
     "points": 3,
     "schema_version": 3,
     "solution": true,
     "task": false
    }
   },
   "outputs": [],
   "source": [
    "import matplotlib.pyplot as plt\n",
    "from scipy.io import wavfile\n",
    "from scipy import signal\n",
    "import numpy as np\n",
    "import os"
   ]
  },
  {
   "cell_type": "code",
   "execution_count": 2,
   "metadata": {},
   "outputs": [],
   "source": [
    "# Make a sound player function that plays array \"x\" with a sample rate \"rate\", and labels it with \"label\"\n",
    "def sound( x, rate=8000, label=''):\n",
    "    from IPython.display import display, Audio, HTML\n",
    "    if label is '':\n",
    "        display( Audio( x, rate=rate))\n",
    "    else:\n",
    "        display( HTML( \n",
    "        '<style> table, th, td {border: 0px; }</style> <table><tr><td>' + label + \n",
    "        '</td><td>' + Audio( x, rate=rate)._repr_html_()[3:] + '</td></tr></table>'\n",
    "        ))\n",
    "        \n",
    "def stft( input_sound, dft_size, hop_size, zero_pad, window):\n",
    "    # Zero padding to front and end of the input\n",
    "    zero_padding = np.zeros(dft_size)\n",
    "    x = np.append(zero_padding, input_sound)\n",
    "    x = np.append(x, zero_padding)\n",
    "\n",
    "    # Segment into shorter frames\n",
    "    frames = []\n",
    "    for i in range(0, len(x)-dft_size, hop_size):\n",
    "        # Apply analysis window\n",
    "        frames.append(x[i:i+dft_size] * window)\n",
    "\n",
    "    f = []\n",
    "    for frame in frames:\n",
    "        freq_vec = np.reshape(np.fft.rfft(frame, dft_size+zero_pad), (-1, 1))\n",
    "        f.append(freq_vec)\n",
    "\n",
    "    # Return a complex-valued spectrogram (frequencies x time)\n",
    "    return np.hstack(f)\n",
    "\n",
    "def istft( stft_output, dft_size, hop_size, zero_pad, window):\n",
    "    t = []\n",
    "    for f in stft_output.T:\n",
    "        t.append(np.fft.irfft(f, dft_size+zero_pad))\n",
    "    t = np.array(t)\n",
    "\n",
    "    x = np.zeros(dft_size+hop_size*(len(t)-1))\n",
    "    for i in range(len(t)):\n",
    "        x[i*hop_size:i*hop_size+dft_size] += t[i][:dft_size] * window\n",
    "    \n",
    "    # Return reconstructed waveform\n",
    "    return x[dft_size:]\n",
    "\n",
    "def plot_spectrogram(x, X, fs, title=''):\n",
    "    time_axis = np.linspace(0, len(x)/fs, X.shape[1])\n",
    "    freq_axis = np.linspace(0, fs/2, X.shape[0])\n",
    "    freq_abs = np.absolute(X)\n",
    "\n",
    "    plt.pcolormesh(time_axis, freq_axis, np.log(freq_abs+np.e), cmap='Blues')\n",
    "\n",
    "    plt.title(title)\n",
    "    plt.xlabel('Time (sec)')\n",
    "    plt.ylabel('Freq (Hz)')\n",
    "\n",
    "    plt.show()"
   ]
  },
  {
   "cell_type": "code",
   "execution_count": 3,
   "metadata": {},
   "outputs": [],
   "source": [
    "def get_data_from_dir(dir_path):\n",
    "    x = []\n",
    "    for file in os.listdir(dir_path):\n",
    "        if os.path.isfile(os.path.join(dir_path, file)):\n",
    "            fs, xi = wavfile.read(os.path.join(dir_path, file))\n",
    "            x.append(xi)\n",
    "    return x, fs\n",
    "\n",
    "def get_stft_features(x):\n",
    "    X = []\n",
    "    for xi in x:\n",
    "        Xi = stft(xi, dft_size, hop_size, zero_pad, stft_window)\n",
    "        # Take it’s magnitude and raise it to 0.3 to improve contrast\n",
    "        Xi = np.power(np.abs(Xi), 0.3)\n",
    "        X.append(Xi)\n",
    "    return X\n",
    "\n",
    "def train_test_split(X, train_size):\n",
    "    X_train, X_test = [], []\n",
    "    train_index = set(np.random.choice(len(X_speech), size=train_size, replace=False))\n",
    "    for i in range(len(X)):\n",
    "        if i in train_index:\n",
    "            X_train.append(X[i])\n",
    "        else:\n",
    "            X_test.append(X[i])\n",
    "    return X_train, X_test\n",
    "\n",
    "def get_accuracy():\n",
    "    true_cnt = 0\n",
    "    false_cnt = 0\n",
    "\n",
    "    # Iterate through each sound file\n",
    "    for X in X_speech_test:\n",
    "        L_speech = 0\n",
    "        L_music = 0\n",
    "        # Accumulate likelihood over all time frames\n",
    "        for t in range(X.shape[1]):\n",
    "            L_speech += G_speech.log_likelihood(X[:, t])\n",
    "            L_music += G_music.log_likelihood(X[:, t])\n",
    "\n",
    "        if L_speech > L_music:\n",
    "            true_cnt += 1\n",
    "        else:\n",
    "            false_cnt += 1\n",
    "\n",
    "    # Iterate through each sound file\n",
    "    for X in X_music_test:\n",
    "        L_speech = 0\n",
    "        L_music = 0\n",
    "        # Accumulate likelihood over all time frames\n",
    "        for t in range(X.shape[1]):\n",
    "            L_speech += G_speech.log_likelihood(X[:, t])\n",
    "            L_music += G_music.log_likelihood(X[:, t])\n",
    "\n",
    "        if L_music > L_speech:\n",
    "            true_cnt += 1\n",
    "        else:\n",
    "            false_cnt += 1\n",
    "            \n",
    "    return true_cnt / (true_cnt + false_cnt)"
   ]
  },
  {
   "cell_type": "code",
   "execution_count": 4,
   "metadata": {},
   "outputs": [],
   "source": [
    "class SingleGaussian():\n",
    "    def __init__(self):\n",
    "        pass\n",
    "    \n",
    "    def fit(self, X):\n",
    "        # Dimension\n",
    "        self.k = X.shape[0]\n",
    "        # Number of training data\n",
    "        self.N = X.shape[1]\n",
    "        # Mean\n",
    "        self.m = np.mean(X, axis=1)\n",
    "        # Covariance\n",
    "        self.C = 1 / (self.N - 1) * (X - self.m.reshape(-1, 1)) @ (X - self.m.reshape(-1, 1)).T\n",
    "        # Diagonal covariance \n",
    "        self.C = np.diag(np.diag(self.C))\n",
    "        \n",
    "        self.C_inv = np.linalg.inv(self.C)\n",
    "        self.C_det_sign, self.C_logdet = np.linalg.slogdet(self.C)\n",
    "        \n",
    "    def log_likelihood(self, x):\n",
    "        return (-self.k/2) * np.log(2*np.pi) + \\\n",
    "               (-1/2) * self.C_det_sign * self.C_logdet + \\\n",
    "               (-1/2) * (x-self.m).T @ self.C_inv @ (x-self.m)"
   ]
  },
  {
   "cell_type": "code",
   "execution_count": 5,
   "metadata": {},
   "outputs": [],
   "source": [
    "speech_dir = 'data/SpeechMusic/speech/'\n",
    "music_dir = 'data/SpeechMusic/music/'\n",
    "\n",
    "x_speech, fs = get_data_from_dir(speech_dir)\n",
    "x_music, fs = get_data_from_dir(music_dir)"
   ]
  },
  {
   "cell_type": "code",
   "execution_count": 6,
   "metadata": {},
   "outputs": [],
   "source": [
    "dft_size = 512\n",
    "hop_size = 128\n",
    "zero_pad = 0\n",
    "stft_window = signal.hann(dft_size, sym=False)\n",
    "\n",
    "X_speech = get_stft_features(x_speech)\n",
    "X_music = get_stft_features(x_music)"
   ]
  },
  {
   "cell_type": "code",
   "execution_count": 7,
   "metadata": {},
   "outputs": [],
   "source": [
    "acc_records = []\n",
    "# Rerun with random training and testing set\n",
    "for i in range(10):\n",
    "    # Split into training set and testing set\n",
    "    X_speech_train, X_speech_test = train_test_split(X_speech, train_size=50)\n",
    "    X_music_train, X_music_test = train_test_split(X_music, train_size=50)\n",
    "\n",
    "    # Treat each spectrum slice as one data point\n",
    "    X_speech_train = np.hstack(X_speech_train)\n",
    "    X_music_train = np.hstack(X_music_train)\n",
    "    \n",
    "    G_speech = SingleGaussian()\n",
    "    G_music = SingleGaussian()\n",
    "    # Train model\n",
    "    G_speech.fit(X_speech_train)\n",
    "    G_music.fit(X_music_train)\n",
    "    \n",
    "    acc_records.append(get_accuracy())"
   ]
  },
  {
   "cell_type": "code",
   "execution_count": 8,
   "metadata": {},
   "outputs": [
    {
     "data": {
      "image/png": "[encoded data removed]",
      "text/plain": [
       "<Figure size 576x432 with 1 Axes>"
      ]
     },
     "metadata": {
      "needs_background": "light"
     },
     "output_type": "display_data"
    },
    {
     "name": "stdout",
     "output_type": "stream",
     "text": [
      "Average accuracy: 0.735\n"
     ]
    }
   ],
   "source": [
    "plt.figure(figsize=(8, 6))\n",
    "plt.plot(acc_records, 'o-')\n",
    "plt.xticks(range(10))\n",
    "plt.ylim(0, 1)\n",
    "plt.title('Accuracy over Different Experiments')\n",
    "plt.xlabel('Experiment Index')\n",
    "plt.ylabel('Accuracy')\n",
    "plt.show()\n",
    "\n",
    "print(f'Average accuracy: {np.mean(acc_records)}')"
   ]
  },
  {
   "cell_type": "markdown",
   "metadata": {
    "deletable": false,
    "editable": false,
    "nbgrader": {
     "cell_type": "markdown",
     "checksum": "06bbd01450e6b4e79e1e797eed004eb9",
     "grade": false,
     "grade_id": "cell-ea09b70a28708831",
     "locked": true,
     "schema_version": 3,
     "solution": false,
     "task": false
    }
   },
   "source": [
    "## Part 2: Making a music genre classifier"
   ]
  },
  {
   "cell_type": "markdown",
   "metadata": {
    "deletable": false,
    "editable": false,
    "nbgrader": {
     "cell_type": "markdown",
     "checksum": "269037d2526644f0210bef91b148f92c",
     "grade": false,
     "grade_id": "cell-b577ec2dbb637ab9",
     "locked": true,
     "schema_version": 3,
     "solution": false,
     "task": false
    }
   },
   "source": [
    "We will repeat the above, but this time we will perform music genre classification. To do so we will use a slightly more elaborate feature representation, and a stronger classification model. If you downloaded the data archive pointed to above, you will find a subset of the CTZAN dataset in the data/genre folder, this is a benchmark data set for music genre classification.\n",
    "\n",
    "Just as before, you will find a set of directories with examples of each sound class that we want to recognize. For each class, split the soundfiles into a training set (50% of data) and testing set (remaining 50% of data).\n",
    "\n",
    "For a representation we will use MFCC features. For extra credit, code these yourself otherwise you can use the implementation from the ```librosa``` library. Once all the files are transformed we will have a series of MFCC frames for each recording (as opposed to spectral frames as is in the case of the STFT). We will use these as the data to classify.\n",
    "\n",
    "For each class learn a Gaussian model (with a diagonal covariance again). This will be the same process as above.\n",
    "In order to evaluate how good this works we will use the following procedure. For each sound in the training data, get the likelihood of each MFCC frame based on the learned Gaussian models and sum these over the entire file just as we did before. Use the resulting values to get a classification result for each . Report how accurate your results are. Now report the accuracy using your testing data instead.\n",
    "\n",
    "Now will use a better classifier to hopefully get better accuracy. We will use a Gaussian Mixture Model (```sklearn.mixture.GaussianMixture```). Just as before you should learn one such model for each class using the corresponding training data.\n",
    "\n",
    "How many Gaussians do you need in your GMM to get the best results? Do the MFCC parameters make a difference? Play around with the numbers to get the best possible results."
   ]
  },
  {
   "cell_type": "code",
   "execution_count": 9,
   "metadata": {
    "deletable": false,
    "nbgrader": {
     "cell_type": "code",
     "checksum": "24f1bd9efdb18646cfb6372f1748c878",
     "grade": true,
     "grade_id": "cell-1f20306aee8e6f97",
     "locked": false,
     "points": 3,
     "schema_version": 3,
     "solution": true,
     "task": false
    }
   },
   "outputs": [],
   "source": [
    "import librosa\n",
    "from collections import defaultdict\n",
    "from sklearn.model_selection import train_test_split\n",
    "from sklearn.mixture import GaussianMixture\n",
    "from sklearn.metrics import accuracy_score\n",
    "import warnings\n",
    "\n",
    "warnings.filterwarnings(\"ignore\")"
   ]
  },
  {
   "cell_type": "code",
   "execution_count": 10,
   "metadata": {},
   "outputs": [],
   "source": [
    "genres_dir = 'data/genres/'\n",
    "\n",
    "X = defaultdict(list)\n",
    "genres_map = defaultdict(str)\n",
    "\n",
    "# Iterate through genre class\n",
    "for i, genre_dir in enumerate(os.listdir(genres_dir)):\n",
    "    genres_map[i] = genre_dir\n",
    "    genre_dir = os.path.join(genres_dir, genre_dir)\n",
    "    if os.path.isdir(genre_dir):\n",
    "        # Iterate through sound file\n",
    "        for file in os.listdir(genre_dir):\n",
    "            file = os.path.join(genre_dir, file)\n",
    "            if os.path.isfile(file):\n",
    "                y, sr = librosa.load(file)\n",
    "                # Get MFCC\n",
    "                mfccs = librosa.feature.mfcc(y=y, sr=sr, n_mfcc=40)\n",
    "                X[i].append(mfccs)"
   ]
  },
  {
   "cell_type": "code",
   "execution_count": 11,
   "metadata": {},
   "outputs": [],
   "source": [
    "X_train = defaultdict(list)\n",
    "X_test = defaultdict(list)\n",
    "\n",
    "for genre in X:\n",
    "    X_train_genre, X_test_genre = train_test_split(X[genre], test_size=0.5, random_state=42)\n",
    "    X_train[genre] = X_train_genre\n",
    "    X_test[genre] = X_test_genre"
   ]
  },
  {
   "cell_type": "code",
   "execution_count": 12,
   "metadata": {
    "scrolled": true
   },
   "outputs": [],
   "source": [
    "# Use a Signal Gaussian Model\n",
    "gmms = defaultdict()\n",
    "\n",
    "for genre in X_train:\n",
    "    gmm = GaussianMixture(n_components=1, covariance_type='diag')\n",
    "    # Treat each time slice at one data point\n",
    "    X_train_genre = np.hstack(X_train[genre]).T\n",
    "    gmm.fit(X_train_genre)\n",
    "    gmms[genre] = gmm"
   ]
  },
  {
   "cell_type": "code",
   "execution_count": 13,
   "metadata": {},
   "outputs": [],
   "source": [
    "def get_gmm_accuracy(X):\n",
    "    true_cnt = 0\n",
    "    false_cnt = 0\n",
    "    \n",
    "    for genre in X:\n",
    "        for Xi in X[genre]:\n",
    "            y_pred = []\n",
    "            for gmm_genre in gmms:\n",
    "                score = gmms[gmm_genre].score(Xi.T)\n",
    "                y_pred.append(score)\n",
    "            if np.argmax(y_pred) == genre: # predict value equals to ground truth\n",
    "                true_cnt += 1\n",
    "            else:\n",
    "                false_cnt += 1\n",
    "\n",
    "    acc = true_cnt / (true_cnt + false_cnt)\n",
    "    return acc\n",
    "    print(f'Training set accuracy: {acc}%')"
   ]
  },
  {
   "cell_type": "code",
   "execution_count": 14,
   "metadata": {},
   "outputs": [
    {
     "name": "stdout",
     "output_type": "stream",
     "text": [
      "Training set accuracy: 0.8\n",
      "Testing set accuracy: 0.8\n"
     ]
    }
   ],
   "source": [
    "print(f'Training set accuracy: {get_gmm_accuracy(X_train)}')\n",
    "print(f'Testing set accuracy: {get_gmm_accuracy(X_test)}')"
   ]
  },
  {
   "cell_type": "code",
   "execution_count": 15,
   "metadata": {},
   "outputs": [],
   "source": [
    "# Use a Gaussian Mixture Model\n",
    "gmms = defaultdict()\n",
    "\n",
    "for genre in X_train:\n",
    "    # More GMM components\n",
    "    gmm = GaussianMixture(n_components=10, covariance_type='diag')\n",
    "    X_train_genre = np.hstack(X_train[genre]).T\n",
    "    gmm.fit(X_train_genre)\n",
    "    gmms[genre] = gmm"
   ]
  },
  {
   "cell_type": "code",
   "execution_count": 16,
   "metadata": {},
   "outputs": [
    {
     "name": "stdout",
     "output_type": "stream",
     "text": [
      "Training set accuracy: 0.936\n",
      "Testing set accuracy: 0.856\n"
     ]
    }
   ],
   "source": [
    "print(f'Training set accuracy: {get_gmm_accuracy(X_train)}')\n",
    "print(f'Testing set accuracy: {get_gmm_accuracy(X_test)}')"
   ]
  },
  {
   "cell_type": "markdown",
   "metadata": {
    "deletable": false,
    "editable": false,
    "nbgrader": {
     "cell_type": "markdown",
     "checksum": "ed704c16a51ce2ee6a7765a36b0bcc1d",
     "grade": false,
     "grade_id": "cell-0366f48ef1511eb0",
     "locked": true,
     "schema_version": 3,
     "solution": false,
     "task": false
    }
   },
   "source": [
    "## Part 3: Make it better (extra credit, required for 4-hour registrants)"
   ]
  },
  {
   "cell_type": "markdown",
   "metadata": {
    "deletable": false,
    "editable": false,
    "nbgrader": {
     "cell_type": "markdown",
     "checksum": "b5c3fcfa38c9061e0c3c36080310de8f",
     "grade": false,
     "grade_id": "cell-ee7356244c540bcc",
     "locked": true,
     "schema_version": 3,
     "solution": false,
     "task": false
    }
   },
   "source": [
    "There is no shortage of techniques (and free code) to use for classification. Revisit the two problems above and use any other type of classifier you want (Neural Nets, Boosting, Decision Trees, whatever). Also feel free to use any feature you want. Can you improve on the results you got before? How much higher can you get your accuracy for either case?"
   ]
  },
  {
   "cell_type": "code",
   "execution_count": 17,
   "metadata": {
    "deletable": false,
    "nbgrader": {
     "cell_type": "code",
     "checksum": "d6ce280f53f8d615656d2c91be53d297",
     "grade": true,
     "grade_id": "cell-b5bfb3525df0e1de",
     "locked": false,
     "points": 3,
     "schema_version": 3,
     "solution": true,
     "task": false
    }
   },
   "outputs": [],
   "source": [
    "from sklearn.ensemble import RandomForestClassifier\n",
    "from sklearn.tree import DecisionTreeClassifier"
   ]
  },
  {
   "cell_type": "code",
   "execution_count": 18,
   "metadata": {},
   "outputs": [],
   "source": [
    "X_clf = []\n",
    "y_clf = []\n",
    "for genre in X:\n",
    "    for x in X[genre]:\n",
    "        for t in range(x.shape[1]):\n",
    "            X_clf.append(x[:, t])\n",
    "            y_clf.append(genre)"
   ]
  },
  {
   "cell_type": "code",
   "execution_count": 19,
   "metadata": {},
   "outputs": [],
   "source": [
    "X_clf_train, X_clf_test, y_clf_train, y_clf_test = train_test_split(X_clf, y_clf, test_size=0.5, random_state=42)"
   ]
  },
  {
   "cell_type": "code",
   "execution_count": 20,
   "metadata": {},
   "outputs": [
    {
     "name": "stdout",
     "output_type": "stream",
     "text": [
      "Accuracy: 0.7070034734357941\n"
     ]
    }
   ],
   "source": [
    "clf = DecisionTreeClassifier()\n",
    "clf.fit(X_clf_train, y_clf_train)\n",
    "print(f'Accuracy: {clf.score(X_clf_test, y_clf_test)}')"
   ]
  }
 ],
 "metadata": {
  "kernelspec": {
   "display_name": "Python 3",
   "language": "python",
   "name": "python3"
  },
  "language_info": {
   "codemirror_mode": {
    "name": "ipython",
    "version": 3
   },
   "file_extension": ".py",
   "mimetype": "text/x-python",
   "name": "python",
   "nbconvert_exporter": "python",
   "pygments_lexer": "ipython3",
   "version": "3.7.6"
  }
 },
 "nbformat": 4,
 "nbformat_minor": 2
}
